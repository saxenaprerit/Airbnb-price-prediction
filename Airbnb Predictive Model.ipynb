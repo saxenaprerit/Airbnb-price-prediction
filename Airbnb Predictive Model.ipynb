{
 "cells": [
  {
   "cell_type": "code",
   "execution_count": 51,
   "metadata": {},
   "outputs": [],
   "source": [
    "import pandas as pd\n",
    "import numpy as np\n",
    "import matplotlib as mlt\n",
    "import matplotlib.pyplot as plt\n",
    "import seaborn as sb\n",
    "import folium\n",
    "from datetime import datetime\n",
    "\n",
    "# chained assignment warning disable\n",
    "\n",
    "pd.options.mode.chained_assignment = None  # default='warn'"
   ]
  },
  {
   "cell_type": "code",
   "execution_count": 2,
   "metadata": {},
   "outputs": [],
   "source": [
    "# The purpose of this project is to do predict price of the listing in Amsterdam Airbnb data"
   ]
  },
  {
   "cell_type": "code",
   "execution_count": 3,
   "metadata": {},
   "outputs": [],
   "source": [
    "# Data source link\n",
    "\n",
    "# http://insideairbnb.com/get-the-data.html\n",
    "\n",
    "# Dataset used:\n",
    "\n",
    "# listings_summary.csv"
   ]
  },
  {
   "cell_type": "code",
   "execution_count": 4,
   "metadata": {},
   "outputs": [],
   "source": [
    "# Importing datasets\n",
    "\n",
    "listings = pd.read_csv(\"C:/Users/Prerit/Desktop/Datatest/Airbnb/Summary files/listing_summary.csv\")"
   ]
  },
  {
   "cell_type": "code",
   "execution_count": 5,
   "metadata": {},
   "outputs": [
    {
     "data": {
      "text/html": [
       "<div>\n",
       "<style scoped>\n",
       "    .dataframe tbody tr th:only-of-type {\n",
       "        vertical-align: middle;\n",
       "    }\n",
       "\n",
       "    .dataframe tbody tr th {\n",
       "        vertical-align: top;\n",
       "    }\n",
       "\n",
       "    .dataframe thead th {\n",
       "        text-align: right;\n",
       "    }\n",
       "</style>\n",
       "<table border=\"1\" class=\"dataframe\">\n",
       "  <thead>\n",
       "    <tr style=\"text-align: right;\">\n",
       "      <th></th>\n",
       "      <th>id</th>\n",
       "      <th>name</th>\n",
       "      <th>host_id</th>\n",
       "      <th>host_name</th>\n",
       "      <th>neighbourhood_group</th>\n",
       "      <th>neighbourhood</th>\n",
       "      <th>latitude</th>\n",
       "      <th>longitude</th>\n",
       "      <th>room_type</th>\n",
       "      <th>price</th>\n",
       "      <th>minimum_nights</th>\n",
       "      <th>number_of_reviews</th>\n",
       "      <th>last_review</th>\n",
       "      <th>reviews_per_month</th>\n",
       "      <th>calculated_host_listings_count</th>\n",
       "      <th>availability_365</th>\n",
       "    </tr>\n",
       "  </thead>\n",
       "  <tbody>\n",
       "    <tr>\n",
       "      <th>0</th>\n",
       "      <td>2818</td>\n",
       "      <td>Quiet Garden View Room &amp; Super Fast WiFi</td>\n",
       "      <td>3159</td>\n",
       "      <td>Daniel</td>\n",
       "      <td>NaN</td>\n",
       "      <td>Oostelijk Havengebied - Indische Buurt</td>\n",
       "      <td>52.36575</td>\n",
       "      <td>4.94142</td>\n",
       "      <td>Private room</td>\n",
       "      <td>59</td>\n",
       "      <td>3</td>\n",
       "      <td>278</td>\n",
       "      <td>2020-02-14</td>\n",
       "      <td>2.06</td>\n",
       "      <td>1</td>\n",
       "      <td>169</td>\n",
       "    </tr>\n",
       "    <tr>\n",
       "      <th>1</th>\n",
       "      <td>20168</td>\n",
       "      <td>Studio with private bathroom in the centre 1</td>\n",
       "      <td>59484</td>\n",
       "      <td>Alexander</td>\n",
       "      <td>NaN</td>\n",
       "      <td>Centrum-Oost</td>\n",
       "      <td>52.36509</td>\n",
       "      <td>4.89354</td>\n",
       "      <td>Private room</td>\n",
       "      <td>100</td>\n",
       "      <td>1</td>\n",
       "      <td>340</td>\n",
       "      <td>2020-04-09</td>\n",
       "      <td>2.76</td>\n",
       "      <td>2</td>\n",
       "      <td>106</td>\n",
       "    </tr>\n",
       "    <tr>\n",
       "      <th>2</th>\n",
       "      <td>25428</td>\n",
       "      <td>Lovely apt in City Centre (w.lift) near Jordaan</td>\n",
       "      <td>56142</td>\n",
       "      <td>Joan</td>\n",
       "      <td>NaN</td>\n",
       "      <td>Centrum-West</td>\n",
       "      <td>52.37297</td>\n",
       "      <td>4.88339</td>\n",
       "      <td>Entire home/apt</td>\n",
       "      <td>125</td>\n",
       "      <td>14</td>\n",
       "      <td>5</td>\n",
       "      <td>2020-02-09</td>\n",
       "      <td>0.18</td>\n",
       "      <td>1</td>\n",
       "      <td>132</td>\n",
       "    </tr>\n",
       "    <tr>\n",
       "      <th>3</th>\n",
       "      <td>27886</td>\n",
       "      <td>Romantic, stylish B&amp;B houseboat in canal district</td>\n",
       "      <td>97647</td>\n",
       "      <td>Flip</td>\n",
       "      <td>NaN</td>\n",
       "      <td>Centrum-West</td>\n",
       "      <td>52.38761</td>\n",
       "      <td>4.89188</td>\n",
       "      <td>Private room</td>\n",
       "      <td>155</td>\n",
       "      <td>2</td>\n",
       "      <td>217</td>\n",
       "      <td>2020-03-02</td>\n",
       "      <td>2.15</td>\n",
       "      <td>1</td>\n",
       "      <td>172</td>\n",
       "    </tr>\n",
       "    <tr>\n",
       "      <th>4</th>\n",
       "      <td>28871</td>\n",
       "      <td>Comfortable double room</td>\n",
       "      <td>124245</td>\n",
       "      <td>Edwin</td>\n",
       "      <td>NaN</td>\n",
       "      <td>Centrum-West</td>\n",
       "      <td>52.36719</td>\n",
       "      <td>4.89092</td>\n",
       "      <td>Private room</td>\n",
       "      <td>75</td>\n",
       "      <td>2</td>\n",
       "      <td>332</td>\n",
       "      <td>2020-03-16</td>\n",
       "      <td>2.82</td>\n",
       "      <td>3</td>\n",
       "      <td>210</td>\n",
       "    </tr>\n",
       "  </tbody>\n",
       "</table>\n",
       "</div>"
      ],
      "text/plain": [
       "      id                                               name  host_id  \\\n",
       "0   2818           Quiet Garden View Room & Super Fast WiFi     3159   \n",
       "1  20168       Studio with private bathroom in the centre 1    59484   \n",
       "2  25428    Lovely apt in City Centre (w.lift) near Jordaan    56142   \n",
       "3  27886  Romantic, stylish B&B houseboat in canal district    97647   \n",
       "4  28871                            Comfortable double room   124245   \n",
       "\n",
       "   host_name  neighbourhood_group                           neighbourhood  \\\n",
       "0     Daniel                  NaN  Oostelijk Havengebied - Indische Buurt   \n",
       "1  Alexander                  NaN                            Centrum-Oost   \n",
       "2       Joan                  NaN                            Centrum-West   \n",
       "3       Flip                  NaN                            Centrum-West   \n",
       "4      Edwin                  NaN                            Centrum-West   \n",
       "\n",
       "   latitude  longitude        room_type  price  minimum_nights  \\\n",
       "0  52.36575    4.94142     Private room     59               3   \n",
       "1  52.36509    4.89354     Private room    100               1   \n",
       "2  52.37297    4.88339  Entire home/apt    125              14   \n",
       "3  52.38761    4.89188     Private room    155               2   \n",
       "4  52.36719    4.89092     Private room     75               2   \n",
       "\n",
       "   number_of_reviews last_review  reviews_per_month  \\\n",
       "0                278  2020-02-14               2.06   \n",
       "1                340  2020-04-09               2.76   \n",
       "2                  5  2020-02-09               0.18   \n",
       "3                217  2020-03-02               2.15   \n",
       "4                332  2020-03-16               2.82   \n",
       "\n",
       "   calculated_host_listings_count  availability_365  \n",
       "0                               1               169  \n",
       "1                               2               106  \n",
       "2                               1               132  \n",
       "3                               1               172  \n",
       "4                               3               210  "
      ]
     },
     "execution_count": 5,
     "metadata": {},
     "output_type": "execute_result"
    }
   ],
   "source": [
    "listings.head()"
   ]
  },
  {
   "cell_type": "code",
   "execution_count": 6,
   "metadata": {
    "scrolled": true
   },
   "outputs": [
    {
     "data": {
      "text/plain": [
       "(19362, 16)"
      ]
     },
     "execution_count": 6,
     "metadata": {},
     "output_type": "execute_result"
    }
   ],
   "source": [
    "# Shape of the dataset\n",
    "\n",
    "listings.shape"
   ]
  },
  {
   "cell_type": "code",
   "execution_count": 7,
   "metadata": {},
   "outputs": [],
   "source": [
    "# EDA for this data has already been conducted"
   ]
  },
  {
   "cell_type": "code",
   "execution_count": 8,
   "metadata": {},
   "outputs": [],
   "source": [
    "# Data Quality check"
   ]
  },
  {
   "cell_type": "code",
   "execution_count": 10,
   "metadata": {},
   "outputs": [
    {
     "name": "stdout",
     "output_type": "stream",
     "text": [
      "<class 'pandas.core.frame.DataFrame'>\n",
      "RangeIndex: 19362 entries, 0 to 19361\n",
      "Data columns (total 16 columns):\n",
      "id                                19362 non-null int64\n",
      "name                              19329 non-null object\n",
      "host_id                           19362 non-null int64\n",
      "host_name                         19358 non-null object\n",
      "neighbourhood_group               0 non-null float64\n",
      "neighbourhood                     19362 non-null object\n",
      "latitude                          19362 non-null float64\n",
      "longitude                         19362 non-null float64\n",
      "room_type                         19362 non-null object\n",
      "price                             19362 non-null int64\n",
      "minimum_nights                    19362 non-null int64\n",
      "number_of_reviews                 19362 non-null int64\n",
      "last_review                       17078 non-null object\n",
      "reviews_per_month                 17078 non-null float64\n",
      "calculated_host_listings_count    19362 non-null int64\n",
      "availability_365                  19362 non-null int64\n",
      "dtypes: float64(4), int64(7), object(5)\n",
      "memory usage: 2.4+ MB\n"
     ]
    }
   ],
   "source": [
    "listings.info()"
   ]
  },
  {
   "cell_type": "code",
   "execution_count": 12,
   "metadata": {},
   "outputs": [
    {
     "data": {
      "text/plain": [
       "0"
      ]
     },
     "execution_count": 12,
     "metadata": {},
     "output_type": "execute_result"
    }
   ],
   "source": [
    "# Checking for and removing duplicates\n",
    "\n",
    "listings.duplicated().sum()\n",
    "\n",
    "# no duplicates for now. Code for removing duplicates is below\n",
    "\n",
    "# listings.drop_duplicates(inplace=True)"
   ]
  },
  {
   "cell_type": "code",
   "execution_count": 13,
   "metadata": {},
   "outputs": [
    {
     "data": {
      "text/plain": [
       "id                                    0\n",
       "name                                 33\n",
       "host_id                               0\n",
       "host_name                             4\n",
       "neighbourhood_group               19362\n",
       "neighbourhood                         0\n",
       "latitude                              0\n",
       "longitude                             0\n",
       "room_type                             0\n",
       "price                                 0\n",
       "minimum_nights                        0\n",
       "number_of_reviews                     0\n",
       "last_review                        2284\n",
       "reviews_per_month                  2284\n",
       "calculated_host_listings_count        0\n",
       "availability_365                      0\n",
       "dtype: int64"
      ]
     },
     "execution_count": 13,
     "metadata": {},
     "output_type": "execute_result"
    }
   ],
   "source": [
    "# Checking for null values\n",
    "\n",
    "listings.isnull().sum()"
   ]
  },
  {
   "cell_type": "code",
   "execution_count": null,
   "metadata": {},
   "outputs": [],
   "source": [
    "# Findings from null values\n",
    "\n",
    "# 1. Both listings id and host id are well populated\n",
    "# 2. neighbourhood group is completely missing\n",
    "# 3. 2284 listings don't have reviews per month and last review date but the number of reviews is present\n",
    "\n",
    "# Hence, we need to drop column beighbourhood group as it will not add anything to our prediction"
   ]
  },
  {
   "cell_type": "code",
   "execution_count": 14,
   "metadata": {},
   "outputs": [],
   "source": [
    "listings.drop(['neighbourhood_group'], axis = 1, inplace = True)"
   ]
  },
  {
   "cell_type": "code",
   "execution_count": 15,
   "metadata": {},
   "outputs": [
    {
     "data": {
      "text/html": [
       "<div>\n",
       "<style scoped>\n",
       "    .dataframe tbody tr th:only-of-type {\n",
       "        vertical-align: middle;\n",
       "    }\n",
       "\n",
       "    .dataframe tbody tr th {\n",
       "        vertical-align: top;\n",
       "    }\n",
       "\n",
       "    .dataframe thead th {\n",
       "        text-align: right;\n",
       "    }\n",
       "</style>\n",
       "<table border=\"1\" class=\"dataframe\">\n",
       "  <thead>\n",
       "    <tr style=\"text-align: right;\">\n",
       "      <th></th>\n",
       "      <th>id</th>\n",
       "      <th>name</th>\n",
       "      <th>host_id</th>\n",
       "      <th>host_name</th>\n",
       "      <th>neighbourhood</th>\n",
       "      <th>latitude</th>\n",
       "      <th>longitude</th>\n",
       "      <th>room_type</th>\n",
       "      <th>price</th>\n",
       "      <th>minimum_nights</th>\n",
       "      <th>number_of_reviews</th>\n",
       "      <th>last_review</th>\n",
       "      <th>reviews_per_month</th>\n",
       "      <th>calculated_host_listings_count</th>\n",
       "      <th>availability_365</th>\n",
       "    </tr>\n",
       "  </thead>\n",
       "  <tbody>\n",
       "    <tr>\n",
       "      <th>0</th>\n",
       "      <td>2818</td>\n",
       "      <td>Quiet Garden View Room &amp; Super Fast WiFi</td>\n",
       "      <td>3159</td>\n",
       "      <td>Daniel</td>\n",
       "      <td>Oostelijk Havengebied - Indische Buurt</td>\n",
       "      <td>52.36575</td>\n",
       "      <td>4.94142</td>\n",
       "      <td>Private room</td>\n",
       "      <td>59</td>\n",
       "      <td>3</td>\n",
       "      <td>278</td>\n",
       "      <td>2020-02-14</td>\n",
       "      <td>2.06</td>\n",
       "      <td>1</td>\n",
       "      <td>169</td>\n",
       "    </tr>\n",
       "    <tr>\n",
       "      <th>1</th>\n",
       "      <td>20168</td>\n",
       "      <td>Studio with private bathroom in the centre 1</td>\n",
       "      <td>59484</td>\n",
       "      <td>Alexander</td>\n",
       "      <td>Centrum-Oost</td>\n",
       "      <td>52.36509</td>\n",
       "      <td>4.89354</td>\n",
       "      <td>Private room</td>\n",
       "      <td>100</td>\n",
       "      <td>1</td>\n",
       "      <td>340</td>\n",
       "      <td>2020-04-09</td>\n",
       "      <td>2.76</td>\n",
       "      <td>2</td>\n",
       "      <td>106</td>\n",
       "    </tr>\n",
       "    <tr>\n",
       "      <th>2</th>\n",
       "      <td>25428</td>\n",
       "      <td>Lovely apt in City Centre (w.lift) near Jordaan</td>\n",
       "      <td>56142</td>\n",
       "      <td>Joan</td>\n",
       "      <td>Centrum-West</td>\n",
       "      <td>52.37297</td>\n",
       "      <td>4.88339</td>\n",
       "      <td>Entire home/apt</td>\n",
       "      <td>125</td>\n",
       "      <td>14</td>\n",
       "      <td>5</td>\n",
       "      <td>2020-02-09</td>\n",
       "      <td>0.18</td>\n",
       "      <td>1</td>\n",
       "      <td>132</td>\n",
       "    </tr>\n",
       "    <tr>\n",
       "      <th>3</th>\n",
       "      <td>27886</td>\n",
       "      <td>Romantic, stylish B&amp;B houseboat in canal district</td>\n",
       "      <td>97647</td>\n",
       "      <td>Flip</td>\n",
       "      <td>Centrum-West</td>\n",
       "      <td>52.38761</td>\n",
       "      <td>4.89188</td>\n",
       "      <td>Private room</td>\n",
       "      <td>155</td>\n",
       "      <td>2</td>\n",
       "      <td>217</td>\n",
       "      <td>2020-03-02</td>\n",
       "      <td>2.15</td>\n",
       "      <td>1</td>\n",
       "      <td>172</td>\n",
       "    </tr>\n",
       "    <tr>\n",
       "      <th>4</th>\n",
       "      <td>28871</td>\n",
       "      <td>Comfortable double room</td>\n",
       "      <td>124245</td>\n",
       "      <td>Edwin</td>\n",
       "      <td>Centrum-West</td>\n",
       "      <td>52.36719</td>\n",
       "      <td>4.89092</td>\n",
       "      <td>Private room</td>\n",
       "      <td>75</td>\n",
       "      <td>2</td>\n",
       "      <td>332</td>\n",
       "      <td>2020-03-16</td>\n",
       "      <td>2.82</td>\n",
       "      <td>3</td>\n",
       "      <td>210</td>\n",
       "    </tr>\n",
       "  </tbody>\n",
       "</table>\n",
       "</div>"
      ],
      "text/plain": [
       "      id                                               name  host_id  \\\n",
       "0   2818           Quiet Garden View Room & Super Fast WiFi     3159   \n",
       "1  20168       Studio with private bathroom in the centre 1    59484   \n",
       "2  25428    Lovely apt in City Centre (w.lift) near Jordaan    56142   \n",
       "3  27886  Romantic, stylish B&B houseboat in canal district    97647   \n",
       "4  28871                            Comfortable double room   124245   \n",
       "\n",
       "   host_name                           neighbourhood  latitude  longitude  \\\n",
       "0     Daniel  Oostelijk Havengebied - Indische Buurt  52.36575    4.94142   \n",
       "1  Alexander                            Centrum-Oost  52.36509    4.89354   \n",
       "2       Joan                            Centrum-West  52.37297    4.88339   \n",
       "3       Flip                            Centrum-West  52.38761    4.89188   \n",
       "4      Edwin                            Centrum-West  52.36719    4.89092   \n",
       "\n",
       "         room_type  price  minimum_nights  number_of_reviews last_review  \\\n",
       "0     Private room     59               3                278  2020-02-14   \n",
       "1     Private room    100               1                340  2020-04-09   \n",
       "2  Entire home/apt    125              14                  5  2020-02-09   \n",
       "3     Private room    155               2                217  2020-03-02   \n",
       "4     Private room     75               2                332  2020-03-16   \n",
       "\n",
       "   reviews_per_month  calculated_host_listings_count  availability_365  \n",
       "0               2.06                               1               169  \n",
       "1               2.76                               2               106  \n",
       "2               0.18                               1               132  \n",
       "3               2.15                               1               172  \n",
       "4               2.82                               3               210  "
      ]
     },
     "execution_count": 15,
     "metadata": {},
     "output_type": "execute_result"
    }
   ],
   "source": [
    "listings.head()"
   ]
  },
  {
   "cell_type": "code",
   "execution_count": 19,
   "metadata": {},
   "outputs": [
    {
     "name": "stdout",
     "output_type": "stream",
     "text": [
      "<class 'pandas.core.frame.DataFrame'>\n",
      "Int64Index: 17051 entries, 0 to 19325\n",
      "Data columns (total 15 columns):\n",
      "id                                17051 non-null int64\n",
      "name                              17051 non-null object\n",
      "host_id                           17051 non-null int64\n",
      "host_name                         17051 non-null object\n",
      "neighbourhood                     17051 non-null object\n",
      "latitude                          17051 non-null float64\n",
      "longitude                         17051 non-null float64\n",
      "room_type                         17051 non-null object\n",
      "price                             17051 non-null int64\n",
      "minimum_nights                    17051 non-null int64\n",
      "number_of_reviews                 17051 non-null int64\n",
      "last_review                       17051 non-null object\n",
      "reviews_per_month                 17051 non-null float64\n",
      "calculated_host_listings_count    17051 non-null int64\n",
      "availability_365                  17051 non-null int64\n",
      "dtypes: float64(3), int64(7), object(5)\n",
      "memory usage: 2.1+ MB\n"
     ]
    }
   ],
   "source": [
    "# Checking for and removing null values from the dataset\n",
    "\n",
    "listings.isnull().sum()\n",
    "listings.dropna(how=\"any\", inplace=True)\n",
    "listings.info()"
   ]
  },
  {
   "cell_type": "code",
   "execution_count": 21,
   "metadata": {},
   "outputs": [
    {
     "data": {
      "text/html": [
       "<div>\n",
       "<style scoped>\n",
       "    .dataframe tbody tr th:only-of-type {\n",
       "        vertical-align: middle;\n",
       "    }\n",
       "\n",
       "    .dataframe tbody tr th {\n",
       "        vertical-align: top;\n",
       "    }\n",
       "\n",
       "    .dataframe thead th {\n",
       "        text-align: right;\n",
       "    }\n",
       "</style>\n",
       "<table border=\"1\" class=\"dataframe\">\n",
       "  <thead>\n",
       "    <tr style=\"text-align: right;\">\n",
       "      <th></th>\n",
       "      <th>id</th>\n",
       "      <th>host_id</th>\n",
       "      <th>latitude</th>\n",
       "      <th>longitude</th>\n",
       "      <th>price</th>\n",
       "      <th>minimum_nights</th>\n",
       "      <th>number_of_reviews</th>\n",
       "      <th>reviews_per_month</th>\n",
       "      <th>calculated_host_listings_count</th>\n",
       "      <th>availability_365</th>\n",
       "    </tr>\n",
       "  </thead>\n",
       "  <tbody>\n",
       "    <tr>\n",
       "      <th>count</th>\n",
       "      <td>1.705100e+04</td>\n",
       "      <td>1.705100e+04</td>\n",
       "      <td>17051.000000</td>\n",
       "      <td>17051.000000</td>\n",
       "      <td>17051.000000</td>\n",
       "      <td>17051.000000</td>\n",
       "      <td>17051.000000</td>\n",
       "      <td>17051.000000</td>\n",
       "      <td>17051.000000</td>\n",
       "      <td>17051.000000</td>\n",
       "    </tr>\n",
       "    <tr>\n",
       "      <th>mean</th>\n",
       "      <td>1.877867e+07</td>\n",
       "      <td>5.902422e+07</td>\n",
       "      <td>52.365479</td>\n",
       "      <td>4.889630</td>\n",
       "      <td>157.941235</td>\n",
       "      <td>3.398569</td>\n",
       "      <td>28.712392</td>\n",
       "      <td>0.827290</td>\n",
       "      <td>1.766934</td>\n",
       "      <td>52.146678</td>\n",
       "    </tr>\n",
       "    <tr>\n",
       "      <th>std</th>\n",
       "      <td>1.153780e+07</td>\n",
       "      <td>7.472915e+07</td>\n",
       "      <td>0.016295</td>\n",
       "      <td>0.035641</td>\n",
       "      <td>160.206032</td>\n",
       "      <td>15.634377</td>\n",
       "      <td>57.213941</td>\n",
       "      <td>1.338302</td>\n",
       "      <td>3.543991</td>\n",
       "      <td>98.805956</td>\n",
       "    </tr>\n",
       "    <tr>\n",
       "      <th>min</th>\n",
       "      <td>2.818000e+03</td>\n",
       "      <td>3.159000e+03</td>\n",
       "      <td>52.289270</td>\n",
       "      <td>4.755940</td>\n",
       "      <td>0.000000</td>\n",
       "      <td>1.000000</td>\n",
       "      <td>1.000000</td>\n",
       "      <td>0.010000</td>\n",
       "      <td>1.000000</td>\n",
       "      <td>0.000000</td>\n",
       "    </tr>\n",
       "    <tr>\n",
       "      <th>25%</th>\n",
       "      <td>9.186128e+06</td>\n",
       "      <td>8.705938e+06</td>\n",
       "      <td>52.355315</td>\n",
       "      <td>4.863970</td>\n",
       "      <td>99.000000</td>\n",
       "      <td>2.000000</td>\n",
       "      <td>4.000000</td>\n",
       "      <td>0.190000</td>\n",
       "      <td>1.000000</td>\n",
       "      <td>0.000000</td>\n",
       "    </tr>\n",
       "    <tr>\n",
       "      <th>50%</th>\n",
       "      <td>1.811818e+07</td>\n",
       "      <td>2.542221e+07</td>\n",
       "      <td>52.364810</td>\n",
       "      <td>4.887110</td>\n",
       "      <td>130.000000</td>\n",
       "      <td>2.000000</td>\n",
       "      <td>11.000000</td>\n",
       "      <td>0.430000</td>\n",
       "      <td>1.000000</td>\n",
       "      <td>0.000000</td>\n",
       "    </tr>\n",
       "    <tr>\n",
       "      <th>75%</th>\n",
       "      <td>2.734779e+07</td>\n",
       "      <td>7.776211e+07</td>\n",
       "      <td>52.375310</td>\n",
       "      <td>4.909345</td>\n",
       "      <td>180.000000</td>\n",
       "      <td>3.000000</td>\n",
       "      <td>27.000000</td>\n",
       "      <td>0.860000</td>\n",
       "      <td>1.000000</td>\n",
       "      <td>55.000000</td>\n",
       "    </tr>\n",
       "    <tr>\n",
       "      <th>max</th>\n",
       "      <td>4.307654e+07</td>\n",
       "      <td>3.428820e+08</td>\n",
       "      <td>52.425120</td>\n",
       "      <td>5.027690</td>\n",
       "      <td>9000.000000</td>\n",
       "      <td>1001.000000</td>\n",
       "      <td>850.000000</td>\n",
       "      <td>58.510000</td>\n",
       "      <td>39.000000</td>\n",
       "      <td>365.000000</td>\n",
       "    </tr>\n",
       "  </tbody>\n",
       "</table>\n",
       "</div>"
      ],
      "text/plain": [
       "                 id       host_id      latitude     longitude         price  \\\n",
       "count  1.705100e+04  1.705100e+04  17051.000000  17051.000000  17051.000000   \n",
       "mean   1.877867e+07  5.902422e+07     52.365479      4.889630    157.941235   \n",
       "std    1.153780e+07  7.472915e+07      0.016295      0.035641    160.206032   \n",
       "min    2.818000e+03  3.159000e+03     52.289270      4.755940      0.000000   \n",
       "25%    9.186128e+06  8.705938e+06     52.355315      4.863970     99.000000   \n",
       "50%    1.811818e+07  2.542221e+07     52.364810      4.887110    130.000000   \n",
       "75%    2.734779e+07  7.776211e+07     52.375310      4.909345    180.000000   \n",
       "max    4.307654e+07  3.428820e+08     52.425120      5.027690   9000.000000   \n",
       "\n",
       "       minimum_nights  number_of_reviews  reviews_per_month  \\\n",
       "count    17051.000000       17051.000000       17051.000000   \n",
       "mean         3.398569          28.712392           0.827290   \n",
       "std         15.634377          57.213941           1.338302   \n",
       "min          1.000000           1.000000           0.010000   \n",
       "25%          2.000000           4.000000           0.190000   \n",
       "50%          2.000000          11.000000           0.430000   \n",
       "75%          3.000000          27.000000           0.860000   \n",
       "max       1001.000000         850.000000          58.510000   \n",
       "\n",
       "       calculated_host_listings_count  availability_365  \n",
       "count                    17051.000000      17051.000000  \n",
       "mean                         1.766934         52.146678  \n",
       "std                          3.543991         98.805956  \n",
       "min                          1.000000          0.000000  \n",
       "25%                          1.000000          0.000000  \n",
       "50%                          1.000000          0.000000  \n",
       "75%                          1.000000         55.000000  \n",
       "max                         39.000000        365.000000  "
      ]
     },
     "execution_count": 21,
     "metadata": {},
     "output_type": "execute_result"
    }
   ],
   "source": [
    "# Lets have a look at at continuous variables for outliers\n",
    "\n",
    "listings.describe()"
   ]
  },
  {
   "cell_type": "code",
   "execution_count": 28,
   "metadata": {},
   "outputs": [
    {
     "data": {
      "text/html": [
       "<div>\n",
       "<style scoped>\n",
       "    .dataframe tbody tr th:only-of-type {\n",
       "        vertical-align: middle;\n",
       "    }\n",
       "\n",
       "    .dataframe tbody tr th {\n",
       "        vertical-align: top;\n",
       "    }\n",
       "\n",
       "    .dataframe thead th {\n",
       "        text-align: right;\n",
       "    }\n",
       "</style>\n",
       "<table border=\"1\" class=\"dataframe\">\n",
       "  <thead>\n",
       "    <tr style=\"text-align: right;\">\n",
       "      <th></th>\n",
       "      <th>id</th>\n",
       "      <th>host_id</th>\n",
       "      <th>latitude</th>\n",
       "      <th>longitude</th>\n",
       "      <th>price</th>\n",
       "      <th>minimum_nights</th>\n",
       "      <th>number_of_reviews</th>\n",
       "      <th>reviews_per_month</th>\n",
       "      <th>calculated_host_listings_count</th>\n",
       "      <th>availability_365</th>\n",
       "    </tr>\n",
       "  </thead>\n",
       "  <tbody>\n",
       "    <tr>\n",
       "      <th>count</th>\n",
       "      <td>1.703100e+04</td>\n",
       "      <td>1.703100e+04</td>\n",
       "      <td>17031.000000</td>\n",
       "      <td>17031.000000</td>\n",
       "      <td>17031.000000</td>\n",
       "      <td>17031.000000</td>\n",
       "      <td>17031.000000</td>\n",
       "      <td>17031.000000</td>\n",
       "      <td>17031.000000</td>\n",
       "      <td>17031.000000</td>\n",
       "    </tr>\n",
       "    <tr>\n",
       "      <th>mean</th>\n",
       "      <td>1.878205e+07</td>\n",
       "      <td>5.901303e+07</td>\n",
       "      <td>52.365473</td>\n",
       "      <td>4.889631</td>\n",
       "      <td>155.047971</td>\n",
       "      <td>3.169103</td>\n",
       "      <td>28.701192</td>\n",
       "      <td>0.827481</td>\n",
       "      <td>1.766132</td>\n",
       "      <td>52.000352</td>\n",
       "    </tr>\n",
       "    <tr>\n",
       "      <th>std</th>\n",
       "      <td>1.153509e+07</td>\n",
       "      <td>7.470012e+07</td>\n",
       "      <td>0.016294</td>\n",
       "      <td>0.035657</td>\n",
       "      <td>95.135070</td>\n",
       "      <td>6.889647</td>\n",
       "      <td>57.169680</td>\n",
       "      <td>1.338711</td>\n",
       "      <td>3.543468</td>\n",
       "      <td>98.619200</td>\n",
       "    </tr>\n",
       "    <tr>\n",
       "      <th>min</th>\n",
       "      <td>2.818000e+03</td>\n",
       "      <td>3.159000e+03</td>\n",
       "      <td>52.289270</td>\n",
       "      <td>4.755940</td>\n",
       "      <td>0.000000</td>\n",
       "      <td>1.000000</td>\n",
       "      <td>1.000000</td>\n",
       "      <td>0.010000</td>\n",
       "      <td>1.000000</td>\n",
       "      <td>0.000000</td>\n",
       "    </tr>\n",
       "    <tr>\n",
       "      <th>25%</th>\n",
       "      <td>9.192888e+06</td>\n",
       "      <td>8.715166e+06</td>\n",
       "      <td>52.355310</td>\n",
       "      <td>4.863945</td>\n",
       "      <td>99.000000</td>\n",
       "      <td>2.000000</td>\n",
       "      <td>4.000000</td>\n",
       "      <td>0.190000</td>\n",
       "      <td>1.000000</td>\n",
       "      <td>0.000000</td>\n",
       "    </tr>\n",
       "    <tr>\n",
       "      <th>50%</th>\n",
       "      <td>1.812072e+07</td>\n",
       "      <td>2.542564e+07</td>\n",
       "      <td>52.364810</td>\n",
       "      <td>4.887100</td>\n",
       "      <td>130.000000</td>\n",
       "      <td>2.000000</td>\n",
       "      <td>11.000000</td>\n",
       "      <td>0.430000</td>\n",
       "      <td>1.000000</td>\n",
       "      <td>0.000000</td>\n",
       "    </tr>\n",
       "    <tr>\n",
       "      <th>75%</th>\n",
       "      <td>2.733326e+07</td>\n",
       "      <td>7.774420e+07</td>\n",
       "      <td>52.375305</td>\n",
       "      <td>4.909355</td>\n",
       "      <td>180.000000</td>\n",
       "      <td>3.000000</td>\n",
       "      <td>27.000000</td>\n",
       "      <td>0.860000</td>\n",
       "      <td>1.000000</td>\n",
       "      <td>55.000000</td>\n",
       "    </tr>\n",
       "    <tr>\n",
       "      <th>max</th>\n",
       "      <td>4.307654e+07</td>\n",
       "      <td>3.428820e+08</td>\n",
       "      <td>52.425120</td>\n",
       "      <td>5.027690</td>\n",
       "      <td>1000.000000</td>\n",
       "      <td>300.000000</td>\n",
       "      <td>850.000000</td>\n",
       "      <td>58.510000</td>\n",
       "      <td>39.000000</td>\n",
       "      <td>365.000000</td>\n",
       "    </tr>\n",
       "  </tbody>\n",
       "</table>\n",
       "</div>"
      ],
      "text/plain": [
       "                 id       host_id      latitude     longitude         price  \\\n",
       "count  1.703100e+04  1.703100e+04  17031.000000  17031.000000  17031.000000   \n",
       "mean   1.878205e+07  5.901303e+07     52.365473      4.889631    155.047971   \n",
       "std    1.153509e+07  7.470012e+07      0.016294      0.035657     95.135070   \n",
       "min    2.818000e+03  3.159000e+03     52.289270      4.755940      0.000000   \n",
       "25%    9.192888e+06  8.715166e+06     52.355310      4.863945     99.000000   \n",
       "50%    1.812072e+07  2.542564e+07     52.364810      4.887100    130.000000   \n",
       "75%    2.733326e+07  7.774420e+07     52.375305      4.909355    180.000000   \n",
       "max    4.307654e+07  3.428820e+08     52.425120      5.027690   1000.000000   \n",
       "\n",
       "       minimum_nights  number_of_reviews  reviews_per_month  \\\n",
       "count    17031.000000       17031.000000       17031.000000   \n",
       "mean         3.169103          28.701192           0.827481   \n",
       "std          6.889647          57.169680           1.338711   \n",
       "min          1.000000           1.000000           0.010000   \n",
       "25%          2.000000           4.000000           0.190000   \n",
       "50%          2.000000          11.000000           0.430000   \n",
       "75%          3.000000          27.000000           0.860000   \n",
       "max        300.000000         850.000000          58.510000   \n",
       "\n",
       "       calculated_host_listings_count  availability_365  \n",
       "count                    17031.000000      17031.000000  \n",
       "mean                         1.766132         52.000352  \n",
       "std                          3.543468         98.619200  \n",
       "min                          1.000000          0.000000  \n",
       "25%                          1.000000          0.000000  \n",
       "50%                          1.000000          0.000000  \n",
       "75%                          1.000000         55.000000  \n",
       "max                         39.000000        365.000000  "
      ]
     },
     "execution_count": 28,
     "metadata": {},
     "output_type": "execute_result"
    }
   ],
   "source": [
    "# From our eda we know that there are certainly some outliers. So adding condition for those\n",
    "\n",
    "listings2=listings[listings[\"price\"]<=1000]\n",
    "listings3=listings2[listings2[\"minimum_nights\"]<=365]\n",
    "listings3.describe()"
   ]
  },
  {
   "cell_type": "code",
   "execution_count": 29,
   "metadata": {},
   "outputs": [
    {
     "data": {
      "text/plain": [
       "(17031, 15)"
      ]
     },
     "execution_count": 29,
     "metadata": {},
     "output_type": "execute_result"
    }
   ],
   "source": [
    "listings3.shape"
   ]
  },
  {
   "cell_type": "code",
   "execution_count": 37,
   "metadata": {},
   "outputs": [
    {
     "data": {
      "text/plain": [
       "(-0.001, 120.0]    7395\n",
       "(150.0, 250.0]     4399\n",
       "(120.0, 150.0]     3657\n",
       "(250.0, 425.0]     1247\n",
       "(425.0, 1000.0]     333\n",
       "Name: price, dtype: int64"
      ]
     },
     "execution_count": 37,
     "metadata": {},
     "output_type": "execute_result"
    }
   ],
   "source": [
    "# Adding some binning\n",
    "\n",
    "pbins = pd.qcut(listings3['price'], q=[0,0.4,0.6,0.9,0.98,1])\n",
    "pbins.value_counts()"
   ]
  },
  {
   "cell_type": "code",
   "execution_count": 32,
   "metadata": {
    "scrolled": true
   },
   "outputs": [
    {
     "data": {
      "text/plain": [
       "(-0.365, 91.25]    13677\n",
       "(91.25, 182.5]      1363\n",
       "(273.75, 365.0]     1260\n",
       "(182.5, 273.75]      731\n",
       "Name: availability_365, dtype: int64"
      ]
     },
     "execution_count": 32,
     "metadata": {},
     "output_type": "execute_result"
    }
   ],
   "source": [
    "# Lets also bin availability and see what we get\n",
    "\n",
    "abins = pd.cut(listings3['availability_365'], bins = 4)\n",
    "abins.value_counts()"
   ]
  },
  {
   "cell_type": "code",
   "execution_count": 65,
   "metadata": {},
   "outputs": [
    {
     "data": {
      "text/plain": [
       "0        1\n",
       "1        1\n",
       "2        1\n",
       "3        1\n",
       "4        1\n",
       "5        1\n",
       "6        1\n",
       "7        1\n",
       "8        1\n",
       "9        1\n",
       "10       2\n",
       "11       1\n",
       "12       1\n",
       "13       1\n",
       "14       1\n",
       "15       1\n",
       "16       1\n",
       "17       1\n",
       "18       1\n",
       "19       1\n",
       "20       1\n",
       "21       1\n",
       "22       1\n",
       "23       1\n",
       "24       1\n",
       "25       1\n",
       "26       1\n",
       "27       1\n",
       "28       3\n",
       "29       2\n",
       "        ..\n",
       "15116    2\n",
       "15117    1\n",
       "15118    1\n",
       "15119    1\n",
       "15120    1\n",
       "15121    1\n",
       "15122    2\n",
       "15123    1\n",
       "15124    1\n",
       "15125    1\n",
       "15126    1\n",
       "15127    1\n",
       "15128    1\n",
       "15129    1\n",
       "15130    1\n",
       "15131    1\n",
       "15132    1\n",
       "15133    1\n",
       "15134    1\n",
       "15135    1\n",
       "15136    1\n",
       "15137    1\n",
       "15138    1\n",
       "15139    1\n",
       "15140    1\n",
       "15141    1\n",
       "15142    1\n",
       "15143    1\n",
       "15144    1\n",
       "15145    1\n",
       "Name: id, Length: 15146, dtype: int64"
      ]
     },
     "execution_count": 65,
     "metadata": {},
     "output_type": "execute_result"
    }
   ],
   "source": [
    "calc_lis = listings3.groupby(by=\"host_id\").agg({'id':'count'}).reset_index()\n",
    "calc_lis['id']"
   ]
  },
  {
   "cell_type": "code",
   "execution_count": 53,
   "metadata": {},
   "outputs": [],
   "source": [
    "listings3['price_bins']=pbins"
   ]
  },
  {
   "cell_type": "code",
   "execution_count": 54,
   "metadata": {},
   "outputs": [],
   "source": [
    "listings3['aval_bins']=abins"
   ]
  },
  {
   "cell_type": "code",
   "execution_count": 55,
   "metadata": {},
   "outputs": [
    {
     "name": "stdout",
     "output_type": "stream",
     "text": [
      "<class 'pandas.core.frame.DataFrame'>\n",
      "Int64Index: 17031 entries, 0 to 19325\n",
      "Data columns (total 17 columns):\n",
      "id                                17031 non-null int64\n",
      "name                              17031 non-null object\n",
      "host_id                           17031 non-null int64\n",
      "host_name                         17031 non-null object\n",
      "neighbourhood                     17031 non-null object\n",
      "latitude                          17031 non-null float64\n",
      "longitude                         17031 non-null float64\n",
      "room_type                         17031 non-null object\n",
      "price                             17031 non-null int64\n",
      "minimum_nights                    17031 non-null int64\n",
      "number_of_reviews                 17031 non-null int64\n",
      "last_review                       17031 non-null object\n",
      "reviews_per_month                 17031 non-null float64\n",
      "calculated_host_listings_count    17031 non-null int64\n",
      "availability_365                  17031 non-null int64\n",
      "price_bins                        17031 non-null category\n",
      "aval_bins                         17031 non-null category\n",
      "dtypes: category(2), float64(3), int64(7), object(5)\n",
      "memory usage: 2.7+ MB\n"
     ]
    }
   ],
   "source": [
    "listings3.info()"
   ]
  },
  {
   "cell_type": "code",
   "execution_count": 58,
   "metadata": {},
   "outputs": [
    {
     "data": {
      "image/png": "[encoded data removed]",
      "text/plain": [
       "<matplotlib.figure.Figure at 0x1b833560080>"
      ]
     },
     "metadata": {
      "needs_background": "light"
     },
     "output_type": "display_data"
    }
   ],
   "source": [
    "# Building a correlation plot\n",
    "\n",
    "corr = listings3.corr(method=\"kendall\")\n",
    "plt.figure(figsize=(15,8))\n",
    "sb.heatmap(corr, annot=True);"
   ]
  },
  {
   "cell_type": "code",
   "execution_count": 59,
   "metadata": {},
   "outputs": [],
   "source": [
    "# It seems that there is no correlation among any variables"
   ]
  },
  {
   "cell_type": "code",
   "execution_count": 66,
   "metadata": {},
   "outputs": [],
   "source": [
    "# Lets drop some columns which will not be useful for us in modeling\n",
    "\n",
    "listings3.drop(['id', 'name', 'host_id', 'host_name', 'latitude', 'longitude', 'last_review'], axis = 1, inplace = True)"
   ]
  },
  {
   "cell_type": "code",
   "execution_count": 67,
   "metadata": {},
   "outputs": [
    {
     "name": "stdout",
     "output_type": "stream",
     "text": [
      "<class 'pandas.core.frame.DataFrame'>\n",
      "Int64Index: 17031 entries, 0 to 19325\n",
      "Data columns (total 10 columns):\n",
      "neighbourhood                     17031 non-null object\n",
      "room_type                         17031 non-null object\n",
      "price                             17031 non-null int64\n",
      "minimum_nights                    17031 non-null int64\n",
      "number_of_reviews                 17031 non-null int64\n",
      "reviews_per_month                 17031 non-null float64\n",
      "calculated_host_listings_count    17031 non-null int64\n",
      "availability_365                  17031 non-null int64\n",
      "price_bins                        17031 non-null category\n",
      "aval_bins                         17031 non-null category\n",
      "dtypes: category(2), float64(1), int64(5), object(2)\n",
      "memory usage: 1.8+ MB\n"
     ]
    }
   ],
   "source": [
    "listings3.info()"
   ]
  },
  {
   "cell_type": "code",
   "execution_count": 68,
   "metadata": {},
   "outputs": [],
   "source": [
    "# Encoding categorical variables\n",
    "\n",
    "def encoding(listings3):\n",
    "    for column in listings3.columns[listings3.columns.isin(['neighbourhood', 'room_type', 'price_bins', 'aval_bins'])]:\n",
    "        listings3[column]=listings3[column].factorize()[0]\n",
    "    return listings3\n",
    "\n",
    "listings3_en = encoding(listings3)"
   ]
  },
  {
   "cell_type": "code",
   "execution_count": 69,
   "metadata": {},
   "outputs": [
    {
     "data": {
      "text/html": [
       "<div>\n",
       "<style scoped>\n",
       "    .dataframe tbody tr th:only-of-type {\n",
       "        vertical-align: middle;\n",
       "    }\n",
       "\n",
       "    .dataframe tbody tr th {\n",
       "        vertical-align: top;\n",
       "    }\n",
       "\n",
       "    .dataframe thead th {\n",
       "        text-align: right;\n",
       "    }\n",
       "</style>\n",
       "<table border=\"1\" class=\"dataframe\">\n",
       "  <thead>\n",
       "    <tr style=\"text-align: right;\">\n",
       "      <th></th>\n",
       "      <th>neighbourhood</th>\n",
       "      <th>room_type</th>\n",
       "      <th>price</th>\n",
       "      <th>minimum_nights</th>\n",
       "      <th>number_of_reviews</th>\n",
       "      <th>reviews_per_month</th>\n",
       "      <th>calculated_host_listings_count</th>\n",
       "      <th>availability_365</th>\n",
       "      <th>price_bins</th>\n",
       "      <th>aval_bins</th>\n",
       "    </tr>\n",
       "  </thead>\n",
       "  <tbody>\n",
       "    <tr>\n",
       "      <th>0</th>\n",
       "      <td>0</td>\n",
       "      <td>0</td>\n",
       "      <td>59</td>\n",
       "      <td>3</td>\n",
       "      <td>278</td>\n",
       "      <td>2.06</td>\n",
       "      <td>1</td>\n",
       "      <td>169</td>\n",
       "      <td>0</td>\n",
       "      <td>0</td>\n",
       "    </tr>\n",
       "    <tr>\n",
       "      <th>1</th>\n",
       "      <td>1</td>\n",
       "      <td>0</td>\n",
       "      <td>100</td>\n",
       "      <td>1</td>\n",
       "      <td>340</td>\n",
       "      <td>2.76</td>\n",
       "      <td>2</td>\n",
       "      <td>106</td>\n",
       "      <td>0</td>\n",
       "      <td>0</td>\n",
       "    </tr>\n",
       "    <tr>\n",
       "      <th>2</th>\n",
       "      <td>2</td>\n",
       "      <td>1</td>\n",
       "      <td>125</td>\n",
       "      <td>14</td>\n",
       "      <td>5</td>\n",
       "      <td>0.18</td>\n",
       "      <td>1</td>\n",
       "      <td>132</td>\n",
       "      <td>1</td>\n",
       "      <td>0</td>\n",
       "    </tr>\n",
       "    <tr>\n",
       "      <th>3</th>\n",
       "      <td>2</td>\n",
       "      <td>0</td>\n",
       "      <td>155</td>\n",
       "      <td>2</td>\n",
       "      <td>217</td>\n",
       "      <td>2.15</td>\n",
       "      <td>1</td>\n",
       "      <td>172</td>\n",
       "      <td>2</td>\n",
       "      <td>0</td>\n",
       "    </tr>\n",
       "    <tr>\n",
       "      <th>4</th>\n",
       "      <td>2</td>\n",
       "      <td>0</td>\n",
       "      <td>75</td>\n",
       "      <td>2</td>\n",
       "      <td>332</td>\n",
       "      <td>2.82</td>\n",
       "      <td>3</td>\n",
       "      <td>210</td>\n",
       "      <td>0</td>\n",
       "      <td>1</td>\n",
       "    </tr>\n",
       "  </tbody>\n",
       "</table>\n",
       "</div>"
      ],
      "text/plain": [
       "   neighbourhood  room_type  price  minimum_nights  number_of_reviews  \\\n",
       "0              0          0     59               3                278   \n",
       "1              1          0    100               1                340   \n",
       "2              2          1    125              14                  5   \n",
       "3              2          0    155               2                217   \n",
       "4              2          0     75               2                332   \n",
       "\n",
       "   reviews_per_month  calculated_host_listings_count  availability_365  \\\n",
       "0               2.06                               1               169   \n",
       "1               2.76                               2               106   \n",
       "2               0.18                               1               132   \n",
       "3               2.15                               1               172   \n",
       "4               2.82                               3               210   \n",
       "\n",
       "   price_bins  aval_bins  \n",
       "0           0          0  \n",
       "1           0          0  \n",
       "2           1          0  \n",
       "3           2          0  \n",
       "4           0          1  "
      ]
     },
     "execution_count": 69,
     "metadata": {},
     "output_type": "execute_result"
    }
   ],
   "source": [
    "listings3.head()"
   ]
  },
  {
   "cell_type": "code",
   "execution_count": 71,
   "metadata": {},
   "outputs": [
    {
     "data": {
      "text/plain": [
       "array([ 0,  1,  2,  3,  4,  5,  6,  7,  8,  9, 10, 11, 12, 13, 14, 15, 16,\n",
       "       17, 18, 19, 20, 21], dtype=int64)"
      ]
     },
     "execution_count": 71,
     "metadata": {},
     "output_type": "execute_result"
    }
   ],
   "source": [
    "listings3['neighbourhood'].unique()"
   ]
  },
  {
   "cell_type": "code",
   "execution_count": 92,
   "metadata": {},
   "outputs": [],
   "source": [
    "from sklearn.linear_model import LinearRegression\n",
    "from sklearn.tree import DecisionTreeRegressor\n",
    "from sklearn.model_selection import train_test_split\n",
    "from sklearn.metrics import classification_report\n",
    "from sklearn.metrics import confusion_matrix\n",
    "from sklearn.metrics import r2_score"
   ]
  },
  {
   "cell_type": "code",
   "execution_count": 78,
   "metadata": {},
   "outputs": [],
   "source": [
    "# Defining dependent and independent and then splitting into training and testing\n",
    "\n",
    "x = listings3_en.iloc[:,[0,1,2,3,4,5,6,7,9]]\n",
    "y = listings3_en.iloc[:,8]"
   ]
  },
  {
   "cell_type": "code",
   "execution_count": 79,
   "metadata": {},
   "outputs": [],
   "source": [
    "x_train, x_test, y_train, y_test = train_test_split(x,y, test_size=.2, random_state=123)"
   ]
  },
  {
   "cell_type": "code",
   "execution_count": 80,
   "metadata": {},
   "outputs": [
    {
     "data": {
      "text/html": [
       "<div>\n",
       "<style scoped>\n",
       "    .dataframe tbody tr th:only-of-type {\n",
       "        vertical-align: middle;\n",
       "    }\n",
       "\n",
       "    .dataframe tbody tr th {\n",
       "        vertical-align: top;\n",
       "    }\n",
       "\n",
       "    .dataframe thead th {\n",
       "        text-align: right;\n",
       "    }\n",
       "</style>\n",
       "<table border=\"1\" class=\"dataframe\">\n",
       "  <thead>\n",
       "    <tr style=\"text-align: right;\">\n",
       "      <th></th>\n",
       "      <th>neighbourhood</th>\n",
       "      <th>room_type</th>\n",
       "      <th>price</th>\n",
       "      <th>minimum_nights</th>\n",
       "      <th>number_of_reviews</th>\n",
       "      <th>reviews_per_month</th>\n",
       "      <th>calculated_host_listings_count</th>\n",
       "      <th>availability_365</th>\n",
       "      <th>aval_bins</th>\n",
       "    </tr>\n",
       "  </thead>\n",
       "  <tbody>\n",
       "    <tr>\n",
       "      <th>16592</th>\n",
       "      <td>2</td>\n",
       "      <td>1</td>\n",
       "      <td>339</td>\n",
       "      <td>3</td>\n",
       "      <td>2</td>\n",
       "      <td>0.25</td>\n",
       "      <td>7</td>\n",
       "      <td>323</td>\n",
       "      <td>3</td>\n",
       "    </tr>\n",
       "    <tr>\n",
       "      <th>2831</th>\n",
       "      <td>1</td>\n",
       "      <td>1</td>\n",
       "      <td>160</td>\n",
       "      <td>2</td>\n",
       "      <td>2</td>\n",
       "      <td>0.06</td>\n",
       "      <td>1</td>\n",
       "      <td>0</td>\n",
       "      <td>2</td>\n",
       "    </tr>\n",
       "    <tr>\n",
       "      <th>15412</th>\n",
       "      <td>4</td>\n",
       "      <td>1</td>\n",
       "      <td>290</td>\n",
       "      <td>2</td>\n",
       "      <td>7</td>\n",
       "      <td>0.49</td>\n",
       "      <td>1</td>\n",
       "      <td>33</td>\n",
       "      <td>2</td>\n",
       "    </tr>\n",
       "    <tr>\n",
       "      <th>323</th>\n",
       "      <td>7</td>\n",
       "      <td>1</td>\n",
       "      <td>214</td>\n",
       "      <td>2</td>\n",
       "      <td>16</td>\n",
       "      <td>0.17</td>\n",
       "      <td>1</td>\n",
       "      <td>0</td>\n",
       "      <td>2</td>\n",
       "    </tr>\n",
       "    <tr>\n",
       "      <th>11504</th>\n",
       "      <td>13</td>\n",
       "      <td>1</td>\n",
       "      <td>99</td>\n",
       "      <td>2</td>\n",
       "      <td>13</td>\n",
       "      <td>0.47</td>\n",
       "      <td>1</td>\n",
       "      <td>0</td>\n",
       "      <td>2</td>\n",
       "    </tr>\n",
       "    <tr>\n",
       "      <th>7174</th>\n",
       "      <td>1</td>\n",
       "      <td>1</td>\n",
       "      <td>130</td>\n",
       "      <td>2</td>\n",
       "      <td>58</td>\n",
       "      <td>1.28</td>\n",
       "      <td>2</td>\n",
       "      <td>35</td>\n",
       "      <td>2</td>\n",
       "    </tr>\n",
       "    <tr>\n",
       "      <th>12699</th>\n",
       "      <td>3</td>\n",
       "      <td>1</td>\n",
       "      <td>150</td>\n",
       "      <td>2</td>\n",
       "      <td>16</td>\n",
       "      <td>0.71</td>\n",
       "      <td>1</td>\n",
       "      <td>0</td>\n",
       "      <td>2</td>\n",
       "    </tr>\n",
       "    <tr>\n",
       "      <th>21</th>\n",
       "      <td>1</td>\n",
       "      <td>0</td>\n",
       "      <td>86</td>\n",
       "      <td>1</td>\n",
       "      <td>179</td>\n",
       "      <td>1.60</td>\n",
       "      <td>1</td>\n",
       "      <td>0</td>\n",
       "      <td>2</td>\n",
       "    </tr>\n",
       "    <tr>\n",
       "      <th>6645</th>\n",
       "      <td>15</td>\n",
       "      <td>1</td>\n",
       "      <td>175</td>\n",
       "      <td>1</td>\n",
       "      <td>2</td>\n",
       "      <td>0.09</td>\n",
       "      <td>2</td>\n",
       "      <td>0</td>\n",
       "      <td>2</td>\n",
       "    </tr>\n",
       "    <tr>\n",
       "      <th>1183</th>\n",
       "      <td>7</td>\n",
       "      <td>1</td>\n",
       "      <td>109</td>\n",
       "      <td>3</td>\n",
       "      <td>14</td>\n",
       "      <td>0.19</td>\n",
       "      <td>1</td>\n",
       "      <td>0</td>\n",
       "      <td>2</td>\n",
       "    </tr>\n",
       "  </tbody>\n",
       "</table>\n",
       "</div>"
      ],
      "text/plain": [
       "       neighbourhood  room_type  price  minimum_nights  number_of_reviews  \\\n",
       "16592              2          1    339               3                  2   \n",
       "2831               1          1    160               2                  2   \n",
       "15412              4          1    290               2                  7   \n",
       "323                7          1    214               2                 16   \n",
       "11504             13          1     99               2                 13   \n",
       "7174               1          1    130               2                 58   \n",
       "12699              3          1    150               2                 16   \n",
       "21                 1          0     86               1                179   \n",
       "6645              15          1    175               1                  2   \n",
       "1183               7          1    109               3                 14   \n",
       "\n",
       "       reviews_per_month  calculated_host_listings_count  availability_365  \\\n",
       "16592               0.25                               7               323   \n",
       "2831                0.06                               1                 0   \n",
       "15412               0.49                               1                33   \n",
       "323                 0.17                               1                 0   \n",
       "11504               0.47                               1                 0   \n",
       "7174                1.28                               2                35   \n",
       "12699               0.71                               1                 0   \n",
       "21                  1.60                               1                 0   \n",
       "6645                0.09                               2                 0   \n",
       "1183                0.19                               1                 0   \n",
       "\n",
       "       aval_bins  \n",
       "16592          3  \n",
       "2831           2  \n",
       "15412          2  \n",
       "323            2  \n",
       "11504          2  \n",
       "7174           2  \n",
       "12699          2  \n",
       "21             2  \n",
       "6645           2  \n",
       "1183           2  "
      ]
     },
     "execution_count": 80,
     "metadata": {},
     "output_type": "execute_result"
    }
   ],
   "source": [
    "x_train.head(10)"
   ]
  },
  {
   "cell_type": "code",
   "execution_count": 81,
   "metadata": {},
   "outputs": [
    {
     "data": {
      "text/plain": [
       "16592    3\n",
       "2831     2\n",
       "15412    3\n",
       "323      2\n",
       "11504    0\n",
       "Name: price_bins, dtype: int64"
      ]
     },
     "execution_count": 81,
     "metadata": {},
     "output_type": "execute_result"
    }
   ],
   "source": [
    "y_train.head()"
   ]
  },
  {
   "cell_type": "code",
   "execution_count": 83,
   "metadata": {},
   "outputs": [
    {
     "data": {
      "text/plain": [
       "LinearRegression(copy_X=True, fit_intercept=True, n_jobs=1, normalize=False)"
      ]
     },
     "execution_count": 83,
     "metadata": {},
     "output_type": "execute_result"
    }
   ],
   "source": [
    "# Building a linear regression model\n",
    "\n",
    "reg = LinearRegression() # initializing\n",
    "reg.fit(x_train, y_train) # fitting"
   ]
  },
  {
   "cell_type": "code",
   "execution_count": 87,
   "metadata": {},
   "outputs": [
    {
     "data": {
      "text/plain": [
       "array([0.41265398, 0.40840079, 1.83474672, 1.25220581, 0.4132689 ,\n",
       "       0.45152629, 0.82114581, 1.23834517, 1.11958198, 1.00691022])"
      ]
     },
     "execution_count": 87,
     "metadata": {},
     "output_type": "execute_result"
    }
   ],
   "source": [
    "y_pred=reg.predict(x_test) # predicting\n",
    "y_pred[0:10]"
   ]
  },
  {
   "cell_type": "code",
   "execution_count": 89,
   "metadata": {},
   "outputs": [
    {
     "data": {
      "text/plain": [
       "0.7364667164164351"
      ]
     },
     "execution_count": 89,
     "metadata": {},
     "output_type": "execute_result"
    }
   ],
   "source": [
    "r2_score(y_test, y_pred)"
   ]
  },
  {
   "cell_type": "code",
   "execution_count": 90,
   "metadata": {},
   "outputs": [],
   "source": [
    "# Its a good r2 score. Hence, linear regression works well here"
   ]
  },
  {
   "cell_type": "code",
   "execution_count": 101,
   "metadata": {},
   "outputs": [
    {
     "data": {
      "text/plain": [
       "DecisionTreeRegressor(criterion='mse', max_depth=None, max_features=None,\n",
       "           max_leaf_nodes=None, min_impurity_decrease=0.0,\n",
       "           min_impurity_split=None, min_samples_leaf=0.0001,\n",
       "           min_samples_split=2, min_weight_fraction_leaf=0.0,\n",
       "           presort=False, random_state=None, splitter='best')"
      ]
     },
     "execution_count": 101,
     "metadata": {},
     "output_type": "execute_result"
    }
   ],
   "source": [
    "# Building a decision tree regressor\n",
    "\n",
    "DTree = DecisionTreeRegressor(min_samples_leaf=0.0001) # initializing\n",
    "DTree.fit(x_train, y_train) # fitting"
   ]
  },
  {
   "cell_type": "code",
   "execution_count": 102,
   "metadata": {},
   "outputs": [
    {
     "data": {
      "text/plain": [
       "array([0., 0., 2., 2., 0., 0., 1., 2., 2., 1.])"
      ]
     },
     "execution_count": 102,
     "metadata": {},
     "output_type": "execute_result"
    }
   ],
   "source": [
    "y_pred_d = DTree.predict(x_test) # predicting\n",
    "y_pred_d[0:10]"
   ]
  },
  {
   "cell_type": "code",
   "execution_count": 100,
   "metadata": {},
   "outputs": [
    {
     "data": {
      "text/plain": [
       "1.0"
      ]
     },
     "execution_count": 100,
     "metadata": {},
     "output_type": "execute_result"
    }
   ],
   "source": [
    "r2_score(y_test, y_pred_d)"
   ]
  },
  {
   "cell_type": "code",
   "execution_count": null,
   "metadata": {},
   "outputs": [],
   "source": [
    "# r2 score is 1, clearly the model is overfitted"
   ]
  }
 ],
 "metadata": {
  "kernelspec": {
   "display_name": "Python 3",
   "language": "python",
   "name": "python3"
  },
  "language_info": {
   "codemirror_mode": {
    "name": "ipython",
    "version": 3
   },
   "file_extension": ".py",
   "mimetype": "text/x-python",
   "name": "python",
   "nbconvert_exporter": "python",
   "pygments_lexer": "ipython3",
   "version": "3.6.4"
  }
 },
 "nbformat": 4,
 "nbformat_minor": 2
}
